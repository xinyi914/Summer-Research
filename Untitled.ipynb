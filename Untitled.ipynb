{
 "cells": [
  {
   "cell_type": "code",
   "execution_count": 1,
   "id": "964677c8",
   "metadata": {},
   "outputs": [],
   "source": [
    "import numpy as np\n"
   ]
  },
  {
   "cell_type": "code",
   "execution_count": 2,
   "id": "eb6a33fb",
   "metadata": {},
   "outputs": [
    {
     "name": "stderr",
     "output_type": "stream",
     "text": [
      "IOPub data rate exceeded.\n",
      "The notebook server will temporarily stop sending output\n",
      "to the client in order to avoid crashing it.\n",
      "To change this limit, set the config variable\n",
      "`--NotebookApp.iopub_data_rate_limit`.\n",
      "\n",
      "Current values:\n",
      "NotebookApp.iopub_data_rate_limit=1000000.0 (bytes/sec)\n",
      "NotebookApp.rate_limit_window=3.0 (secs)\n",
      "\n",
      "IOStream.flush timed out\n"
     ]
    }
   ],
   "source": [
    "# assume the maximum number of making the sandwiches is 20\n",
    "CAPACITY = 20\n",
    "\n",
    "# state(age1,age2,age3,age4,# of sandwiches on the counter, time]\n",
    "# state = np.array([[0,0,0,0,0,0],[0,0,0,0,0,1],[0,0,0,0,0,2],[0,0,0,0,0,3], # 11-11:45\n",
    "#                   [0,0,0,0,0,4],[0,0,0,0,0,5],[0,0,0,0,0,6],[0,0,0,0,0,7], # 12-12:45\n",
    "#                   [0,0,0,0,0,8],[0,0,0,0,0,9],[0,0,0,0,0,10],[0,0,0,0,0,11], # 13-13:45\n",
    "#                   [0,0,0,0,0,12], # 14\n",
    "#                   ])\n",
    "state_list = []\n",
    "for a1 in range(CAPACITY+1):\n",
    "    for a2 in range(CAPACITY+1):\n",
    "        for a3 in range(CAPACITY+1):\n",
    "            for a4 in range(CAPACITY+1):\n",
    "                for counter in range(CAPACITY+1):\n",
    "                    for time in range(13):\n",
    "                        state_list.append([a1,a2,a3,a4,counter,time])\n",
    "\n",
    "print(state_list)"
   ]
  },
  {
   "cell_type": "code",
   "execution_count": null,
   "id": "25fd46d4",
   "metadata": {},
   "outputs": [],
   "source": []
  }
 ],
 "metadata": {
  "kernelspec": {
   "display_name": "Python 3 (ipykernel)",
   "language": "python",
   "name": "python3"
  },
  "language_info": {
   "codemirror_mode": {
    "name": "ipython",
    "version": 3
   },
   "file_extension": ".py",
   "mimetype": "text/x-python",
   "name": "python",
   "nbconvert_exporter": "python",
   "pygments_lexer": "ipython3",
   "version": "3.8.0"
  }
 },
 "nbformat": 4,
 "nbformat_minor": 5
}
